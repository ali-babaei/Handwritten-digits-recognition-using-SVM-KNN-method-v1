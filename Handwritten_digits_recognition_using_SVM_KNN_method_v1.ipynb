{
  "nbformat": 4,
  "nbformat_minor": 0,
  "metadata": {
    "anaconda-cloud": {},
    "kernelspec": {
      "name": "python3",
      "display_name": "Python 3"
    },
    "colab": {
      "name": "Handwritten digits recognition using SVM-KNN method.v1.ipynb",
      "provenance": [],
      "collapsed_sections": []
    },
    "accelerator": "GPU"
  },
  "cells": [
    {
      "cell_type": "code",
      "metadata": {
        "id": "rI41LamQhdCu",
        "colab_type": "code",
        "outputId": "055f5f56-e7bd-4aff-889d-875df7b1d7d8",
        "colab": {
          "base_uri": "https://localhost:8080/",
          "height": 34
        }
      },
      "source": [
        "# Import libraries necessary for this project\n",
        "import numpy as np\n",
        "import pandas as pd\n",
        "from sklearn import model_selection\n",
        "from sklearn import svm\n",
        "from sklearn.neighbors import KNeighborsClassifier\n",
        "from sklearn.metrics import accuracy_score\n",
        "from sklearn.metrics import recall_score\n",
        "from sklearn.decomposition import PCA\n",
        "from IPython.display import display # Allows the use of display() for DataFrames\n",
        "from time import time\n",
        "\n",
        "# Show matplotlib plots inline (nicely formatted in the notebook)\n",
        "%matplotlib inline\n",
        "import matplotlib.pyplot as plt\n",
        "import matplotlib.cm as cm\n",
        "\n",
        "def all_same(items):\n",
        "  return len(set(items)) == 1\n",
        "\n",
        "# Load training data from csv file\n",
        "try:\n",
        "    data = pd.read_csv(\"https://github.com/briceicle/capstone/raw/master/data/train.csv\")\n",
        "    test = pd.read_csv(\"https://github.com/briceicle/capstone/raw/master/data/test.csv\")\n",
        "    print(\"Digits dataset has {} samples with {} features each.\".format(*data.shape))\n",
        "except Exception as e:\n",
        "    print(\"Dataset could not be loaded. Is the dataset missing?\")\n",
        "    print(e)"
      ],
      "execution_count": 0,
      "outputs": [
        {
          "output_type": "stream",
          "text": [
            "Digits dataset has 42000 samples with 785 features each.\n"
          ],
          "name": "stdout"
        }
      ]
    },
    {
      "cell_type": "code",
      "metadata": {
        "id": "-q_1WiIflB6B",
        "colab_type": "code",
        "colab": {}
      },
      "source": [
        "# Extract feature columns\n",
        "feature_cols = list(data.columns[1:])\n",
        "\n",
        "# Extract target column 'label'\n",
        "target_col = data.columns[0]\n",
        "\n",
        "# Separate the data into feature data and target data (X and y, respectively)\n",
        "X = data[feature_cols]\n",
        "y = data[target_col]"
      ],
      "execution_count": 0,
      "outputs": []
    },
    {
      "cell_type": "code",
      "metadata": {
        "id": "6CSsA9VEhdC1",
        "colab_type": "code",
        "outputId": "2819e4b0-7b1f-46bb-d446-31278c531915",
        "colab": {
          "base_uri": "https://localhost:8080/",
          "height": 310
        }
      },
      "source": [
        "# Calculate number of samples\n",
        "n_images = data.shape[0]\n",
        "\n",
        "# Calculate number of features\n",
        "n_features = data.shape[1] - 1\n",
        "\n",
        "# Plot number of occurrences of each label\n",
        "plot = data.label.groupby(data.label).count().plot(kind=\"bar\")\n",
        "plot.set_xlabel(\"digit label\")\n",
        "plot.set_ylabel(\"number of occurrences\")\n",
        "\n",
        "# Print the results\n",
        "print(\"Total number of samples: {}\".format(n_images))\n",
        "print(\"Number of features: {}\".format(n_features))"
      ],
      "execution_count": 0,
      "outputs": [
        {
          "output_type": "stream",
          "text": [
            "Total number of samples: 42000\n",
            "Number of features: 784\n"
          ],
          "name": "stdout"
        },
        {
          "output_type": "display_data",
          "data": {
            "image/png": "[encoded data removed]",
            "text/plain": [
              "<Figure size 432x288 with 1 Axes>"
            ]
          },
          "metadata": {
            "tags": []
          }
        }
      ]
    },
    {
      "cell_type": "code",
      "metadata": {
        "id": "k5DS2e8LhdC6",
        "colab_type": "code",
        "outputId": "de5a7df8-6e41-4092-b65d-c9221121c6bc",
        "colab": {
          "base_uri": "https://localhost:8080/",
          "height": 34
        }
      },
      "source": [
        "images = test.iloc[:,:].values\n",
        "images = images.astype(np.float)\n",
        "\n",
        "# convert from [0:255] => [0.0:1.0]\n",
        "images = np.multiply(images, 1.0 / 255.0)\n",
        "\n",
        "print('images({0[0]},{0[1]})'.format(images.shape))"
      ],
      "execution_count": 0,
      "outputs": [
        {
          "output_type": "stream",
          "text": [
            "images(28000,784)\n"
          ],
          "name": "stdout"
        }
      ]
    },
    {
      "cell_type": "code",
      "metadata": {
        "id": "GVKyQ4xrhdC9",
        "colab_type": "code",
        "outputId": "dfb389b7-b39a-4469-eff0-fc37cd2659fd",
        "colab": {
          "base_uri": "https://localhost:8080/",
          "height": 248
        }
      },
      "source": [
        "# display image\n",
        "def display2(img):\n",
        "    # (784) => (28,28)\n",
        "    one_image = img.reshape(28, 28)\n",
        "    fig, ax = plt.subplots()\n",
        "    ax.set_axis_off()\n",
        "    ax.imshow(one_image, **dict(aspect='auto', cmap='binary', interpolation='nearest'))\n",
        "\n",
        "# output image\n",
        "display2(images[23])"
      ],
      "execution_count": 0,
      "outputs": [
        {
          "output_type": "display_data",
          "data": {
            "image/png": "[encoded data removed]",
            "text/plain": [
              "<Figure size 432x288 with 1 Axes>"
            ]
          },
          "metadata": {
            "tags": []
          }
        }
      ]
    },
    {
      "cell_type": "code",
      "metadata": {
        "id": "H_1SEO9ehdDA",
        "colab_type": "code",
        "outputId": "c4949b65-7ae5-4402-da7e-704323bd52ab",
        "colab": {
          "base_uri": "https://localhost:8080/",
          "height": 429
        }
      },
      "source": [
        "# compute the average intensity (the average value of a pixel in an image)\n",
        "data_intensity = X.mean(axis=1)\n",
        "\n",
        "# Plot average intensity of each label\n",
        "plot = data_intensity.groupby(data.label).mean().plot(kind=\"bar\")\n",
        "plot.set_xlabel(\"digit label\")\n",
        "plot.set_ylabel(\"average intensity\")\n",
        "\n",
        "print(data_intensity.describe())"
      ],
      "execution_count": 0,
      "outputs": [
        {
          "output_type": "stream",
          "text": [
            "count    42000.000000\n",
            "mean        33.408911\n",
            "std         11.083130\n",
            "min          6.487245\n",
            "25%         25.393814\n",
            "50%         32.610969\n",
            "75%         40.363839\n",
            "max        101.381378\n",
            "dtype: float64\n"
          ],
          "name": "stdout"
        },
        {
          "output_type": "display_data",
          "data": {
            "image/png": "[encoded data removed]",
            "text/plain": [
              "<Figure size 432x288 with 1 Axes>"
            ]
          },
          "metadata": {
            "tags": []
          }
        }
      ]
    },
    {
      "cell_type": "code",
      "metadata": {
        "id": "1TBiFadmvIju",
        "colab_type": "code",
        "outputId": "cd2900b5-35db-450b-fb13-aad2a954b23c",
        "colab": {
          "base_uri": "https://localhost:8080/",
          "height": 295
        }
      },
      "source": [
        "# Apply PCA by fitting the data with only 60 dimensions\n",
        "pca = PCA(n_components=60).fit(X)\n",
        "# Transform the data using the PCA fit above\n",
        "X = pca.transform(X)\n",
        "y = y.values\n",
        "\n",
        "plot = pd.DataFrame(pca.explained_variance_ratio_, index=np.arange(1, pca.n_components_ + 1)).plot()\n",
        "plot.set_title('The variance of the principal components')\n",
        "plot.set_xlabel(\"Principal Components\")\n",
        "plot.set_ylabel(\"Percentage of Variance\");"
      ],
      "execution_count": 0,
      "outputs": [
        {
          "output_type": "display_data",
          "data": {
            "image/png": "[encoded data removed]",
            "text/plain": [
              "<Figure size 432x288 with 1 Axes>"
            ]
          },
          "metadata": {
            "tags": []
          }
        }
      ]
    },
    {
      "cell_type": "code",
      "metadata": {
        "id": "Ghz4DCCYvbpO",
        "colab_type": "code",
        "colab": {}
      },
      "source": [
        "# Shuffle and split the dataset into the number of training and testing points above\n",
        "sss = model_selection.StratifiedShuffleSplit(3, test_size=0.4, random_state=42)\n",
        "for train_index, test_index in sss.split(X,y):\n",
        "  X_train, X_test = X[train_index], X[test_index]\n",
        "  y_train, y_test = y[train_index], y[test_index]"
      ],
      "execution_count": 0,
      "outputs": []
    },
    {
      "cell_type": "code",
      "metadata": {
        "id": "633OP6dwvoFT",
        "colab_type": "code",
        "colab": {}
      },
      "source": [
        "# Fit a KNN classifier on the training set\n",
        "knn_clf = KNeighborsClassifier(n_neighbors=300, p=2)\n",
        "knn_clf.fit(X_train, y_train);"
      ],
      "execution_count": 0,
      "outputs": []
    },
    {
      "cell_type": "code",
      "metadata": {
        "id": "WHycSD812U_O",
        "colab_type": "code",
        "outputId": "9464209d-956a-42ec-8b13-a59ca50e4c07",
        "colab": {
          "base_uri": "https://localhost:8080/",
          "height": 51
        }
      },
      "source": [
        "# Initialize the array of predicted labels\n",
        "y_pred = np.empty(len(y_test), dtype=np.int)\n",
        "\n",
        "start = time()\n",
        "\n",
        "# Find the nearest neighbors indices for each sample in the test set\n",
        "kneighbors = knn_clf.kneighbors(X_test, return_distance=False)\n",
        "\n",
        "# For each set of neighbors indices\n",
        "for idx, indices in enumerate(kneighbors):\n",
        "  # Find the actual training samples & their labels\n",
        "  neighbors = [X_train[i] for i in indices]\n",
        "  neighbors_labels = [y_train[i] for i in indices]\n",
        "  \n",
        "  # if all labels are the same, use it as the prediction\n",
        "  if all_same(neighbors_labels):\n",
        "    y_pred[idx] = neighbors_labels[0]\n",
        "  else:\n",
        "    # else fit a SVM classifier using the neighbors, and label the test samples\n",
        "    svm_clf = svm.SVC(C=8, kernel='rbf', decision_function_shape='ovo', random_state=42)\n",
        "    # svm_clf = SVC(C=1.0, kernel='rbf', degree=3, gamma=1/(n_features * np.var(neighbors)), coef0=0.0, \n",
        "    #            shrinking=True, probability=False, tol=0.001, cache_size=200, \n",
        "    #            class_weight=None, verbose=False, max_iter=-1, \n",
        "    #            decision_function_shape='ovr', random_state=None)\n",
        "    svm_clf.fit(neighbors, neighbors_labels)\n",
        "    label = svm_clf.predict(X_test[idx].reshape(1, -1))\n",
        "\n",
        "    y_pred[idx] = label\n",
        "end = time()\n",
        "\n",
        "print(accuracy_score(y_test, y_pred))\n",
        "print(\"Made predictions in {:.4f} seconds.\".format(end - start))"
      ],
      "execution_count": 0,
      "outputs": [
        {
          "output_type": "stream",
          "text": [
            "0.9827380952380952\n",
            "Made predictions in 153.0029 seconds.\n"
          ],
          "name": "stdout"
        }
      ]
    },
    {
      "cell_type": "code",
      "metadata": {
        "id": "bsq3r2RJrUlx",
        "colab_type": "code",
        "colab": {
          "base_uri": "https://localhost:8080/",
          "height": 232
        },
        "outputId": "28e66c50-1f22-4d01-a124-a2da80e6952c"
      },
      "source": [
        "start = time()\n",
        "test_X = test[feature_cols]\n",
        "pca_test = PCA(n_components=60).fit(test_X)\n",
        "test_X = pca_test.transform(test_X)\n",
        "y_pred_test = np.empty(len(test_X), dtype=np.int)\n",
        "kneighbors = knn_clf.kneighbors(test_X, return_distance=False)\n",
        "for idx, indices in enumerate(kneighbors):\n",
        "  neighbors = [X_train[i] for i in indices]\n",
        "  neighbors_labels = [y_train[i] for i in indices]\n",
        "  if all_same(neighbors_labels):\n",
        "    y_pred_test[idx] = neighbors_labels[0]\n",
        "  else:\n",
        "    svm_clf = svm.SVC(C=8, kernel='rbf', decision_function_shape='ovo', random_state=42)\n",
        "    svm_clf.fit(neighbors, neighbors_labels)\n",
        "    y_pred_test[idx] = svm_clf.predict(test_X[idx].reshape(1, -1))\n",
        "# save to csv in order to uploadd it to kaggle\n",
        "pd.DataFrame(list(zip(np.arange(1, y_pred_test.shape[0] + 1),y_pred_test)), \n",
        "             columns=['ImageId', 'Label']).to_csv('predictions.csv', index=False)\n",
        "end = time()\n",
        "print(\"Made submission predictions in {:.4f} seconds.\".format(end - start))"
      ],
      "execution_count": 27,
      "outputs": [
        {
          "output_type": "error",
          "ename": "AttributeError",
          "evalue": "ignored",
          "traceback": [
            "\u001b[0;31m---------------------------------------------------------------------------\u001b[0m",
            "\u001b[0;31mAttributeError\u001b[0m                            Traceback (most recent call last)",
            "\u001b[0;32m<ipython-input-27-646ea9e40bbc>\u001b[0m in \u001b[0;36m<module>\u001b[0;34m()\u001b[0m\n\u001b[1;32m     15\u001b[0m     \u001b[0my_pred_test\u001b[0m\u001b[0;34m[\u001b[0m\u001b[0midx\u001b[0m\u001b[0;34m]\u001b[0m \u001b[0;34m=\u001b[0m \u001b[0msvm_clf\u001b[0m\u001b[0;34m.\u001b[0m\u001b[0mpredict\u001b[0m\u001b[0;34m(\u001b[0m\u001b[0mtest_X\u001b[0m\u001b[0;34m[\u001b[0m\u001b[0midx\u001b[0m\u001b[0;34m]\u001b[0m\u001b[0;34m.\u001b[0m\u001b[0mreshape\u001b[0m\u001b[0;34m(\u001b[0m\u001b[0;36m1\u001b[0m\u001b[0;34m,\u001b[0m \u001b[0;34m-\u001b[0m\u001b[0;36m1\u001b[0m\u001b[0;34m)\u001b[0m\u001b[0;34m)\u001b[0m\u001b[0;34m\u001b[0m\u001b[0;34m\u001b[0m\u001b[0m\n\u001b[1;32m     16\u001b[0m \u001b[0;31m# save to csv in order to uploadd it to kaggle\u001b[0m\u001b[0;34m\u001b[0m\u001b[0;34m\u001b[0m\u001b[0;34m\u001b[0m\u001b[0m\n\u001b[0;32m---> 17\u001b[0;31m \u001b[0my_pred_test\u001b[0m\u001b[0;34m.\u001b[0m\u001b[0mto_csv\u001b[0m\u001b[0;34m(\u001b[0m\u001b[0;34m'predictions.csv'\u001b[0m\u001b[0;34m)\u001b[0m\u001b[0;34m\u001b[0m\u001b[0;34m\u001b[0m\u001b[0m\n\u001b[0m\u001b[1;32m     18\u001b[0m \u001b[0mend\u001b[0m \u001b[0;34m=\u001b[0m \u001b[0mtime\u001b[0m\u001b[0;34m(\u001b[0m\u001b[0;34m)\u001b[0m\u001b[0;34m\u001b[0m\u001b[0;34m\u001b[0m\u001b[0m\n\u001b[1;32m     19\u001b[0m \u001b[0mprint\u001b[0m\u001b[0;34m(\u001b[0m\u001b[0;34m\"Made submission predictions in {:.4f} seconds.\"\u001b[0m\u001b[0;34m.\u001b[0m\u001b[0mformat\u001b[0m\u001b[0;34m(\u001b[0m\u001b[0mend\u001b[0m \u001b[0;34m-\u001b[0m \u001b[0mstart\u001b[0m\u001b[0;34m)\u001b[0m\u001b[0;34m)\u001b[0m\u001b[0;34m\u001b[0m\u001b[0;34m\u001b[0m\u001b[0m\n",
            "\u001b[0;31mAttributeError\u001b[0m: 'numpy.ndarray' object has no attribute 'to_csv'"
          ]
        }
      ]
    }
  ]
}